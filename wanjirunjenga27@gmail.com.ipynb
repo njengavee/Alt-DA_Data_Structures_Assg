{
 "cells": [
  {
   "cell_type": "markdown",
   "metadata": {
    "deletable": false,
    "editable": false,
    "id": "xaOqjA1dwz3o",
    "nbgrader": {
     "cell_type": "markdown",
     "checksum": "886c0ca5b5f4678833758da2013061d5",
     "grade": false,
     "grade_id": "cell-696f7a1faab60ca0",
     "locked": true,
     "schema_version": 3,
     "solution": false,
     "task": false
    }
   },
   "source": [
    "# DO NOT CREATE OR DELETE ANY CELLS\n",
    "## DO NOT CREATE OR DELETE ANY CELLS\n",
    "### DO NOT CREATE OR DELETE ANY CELLS\n",
    "#### DO NOT CREATE OR DELETE ANY CELLS"
   ]
  },
  {
   "cell_type": "markdown",
   "metadata": {
    "deletable": false,
    "editable": false,
    "id": "3W8Cihjzwz3w",
    "nbgrader": {
     "cell_type": "markdown",
     "checksum": "9dee687068c0ea0620fdff0884a99b70",
     "grade": false,
     "grade_id": "cell-1f46e25026fc9f4f",
     "locked": true,
     "schema_version": 3,
     "solution": false,
     "task": false
    }
   },
   "source": [
    "# Objects and Data Structures Assessment Test"
   ]
  },
  {
   "cell_type": "markdown",
   "metadata": {
    "deletable": false,
    "editable": false,
    "id": "RLQxYTUzwz3w",
    "nbgrader": {
     "cell_type": "markdown",
     "checksum": "32f41dfafb7c00aa8378c61fa2b2ad89",
     "grade": false,
     "grade_id": "cell-1f46e25026fc9fkf",
     "locked": true,
     "schema_version": 3,
     "solution": false,
     "task": false
    }
   },
   "source": [
    "#### I Strongly advise you take the questions and practice on a different notebook and then when you are certain you have to correct code bring it in here and paste in the approriate cell.\n",
    "\n",
    "### To answer the questions first delete this line `raise NotImplementedError()` and then write your code after the `#your code here` comment"
   ]
  },
  {
   "cell_type": "markdown",
   "metadata": {
    "deletable": false,
    "editable": false,
    "id": "usRmSRtxwz3x",
    "nbgrader": {
     "cell_type": "markdown",
     "checksum": "71563098e349812916531475edd82d47",
     "grade": false,
     "grade_id": "cell-4802e4d3f92fd529",
     "locked": true,
     "schema_version": 3,
     "solution": false,
     "task": false
    }
   },
   "source": [
    "## 1. Strings\n",
    "\n",
    "- Create a variable **s** and put the string  **hello world** in it, then extract every second letter and store it in a variable called **letter_sequence**.\n",
    "- Create a formatted string using **format** and **{}** and store it in variable called **greeting** such that If \"Jadesola\" is inserted as the name and \"25\" as the age, the result should be **Hello Jadesola, you are 25 years old**."
   ]
  },
  {
   "cell_type": "code",
   "execution_count": 1,
   "metadata": {
    "colab": {
     "base_uri": "https://localhost:8080/",
     "height": 70
    },
    "deletable": false,
    "executionInfo": {
     "elapsed": 403,
     "status": "ok",
     "timestamp": 1738656387593,
     "user": {
      "displayName": "wanjiru njenga",
      "userId": "00861820569804964062"
     },
     "user_tz": -180
    },
    "id": "lwk1TnoZwz3z",
    "nbgrader": {
     "cell_type": "code",
     "checksum": "c22dccd75957dac20df33be194d42e3f",
     "grade": false,
     "grade_id": "cell-088358cd80c89256",
     "locked": false,
     "schema_version": 3,
     "solution": true,
     "task": false
    },
    "outputId": "3c873b16-f942-43fa-c9a1-5219ca535b92"
   },
   "outputs": [
    {
     "name": "stdout",
     "output_type": "stream",
     "text": [
      "hello world\n",
      "hlowrd\n"
     ]
    },
    {
     "data": {
      "text/plain": [
       "'Hello Jadesola, you are 25 years old'"
      ]
     },
     "execution_count": 1,
     "metadata": {},
     "output_type": "execute_result"
    }
   ],
   "source": [
    "# YOUR CODE HERE\n",
    "# creating a variable\n",
    "s = \"hello world\"\n",
    "print(s)\n",
    "\n",
    "# Extracting every second letter\n",
    "letter_sequence = s[::2]\n",
    "print(letter_sequence)\n",
    "\n",
    "# string formatting with .format() method\n",
    "greeting = \"Hello {}, you are {} years old\"\n",
    "greeting.format('Jadesola', 25)"
   ]
  },
  {
   "cell_type": "code",
   "execution_count": 2,
   "metadata": {
    "deletable": false,
    "editable": false,
    "executionInfo": {
     "elapsed": 399,
     "status": "ok",
     "timestamp": 1738656391223,
     "user": {
      "displayName": "wanjiru njenga",
      "userId": "00861820569804964062"
     },
     "user_tz": -180
    },
    "id": "KWUBmFr_wz31",
    "nbgrader": {
     "cell_type": "code",
     "checksum": "cedd6ee109aa5fed19c1e2a9835e4178",
     "grade": true,
     "grade_id": "cell-8c64ce6723dba25f",
     "locked": true,
     "points": 2,
     "schema_version": 3,
     "solution": false,
     "task": false
    }
   },
   "outputs": [],
   "source": [
    "#do not modify this cell\n",
    "#do not modify this cell\n",
    "#do not modify this cell\n",
    "#do not modify this cell\n",
    "assert letter_sequence == \"hlowrd\"\n",
    "assert greeting.format(\"Jackson\", 25) == \"Hello Jackson, you are 25 years old\""
   ]
  },
  {
   "cell_type": "markdown",
   "metadata": {
    "deletable": false,
    "editable": false,
    "id": "X3KXnrh1wz31",
    "nbgrader": {
     "cell_type": "markdown",
     "checksum": "596e2150f82ea11d8189be65978c8b38",
     "grade": false,
     "grade_id": "cell-4fc9ee6996c27b45",
     "locked": true,
     "schema_version": 3,
     "solution": false,
     "task": false
    }
   },
   "source": [
    "## 2. Lists"
   ]
  },
  {
   "cell_type": "markdown",
   "metadata": {
    "deletable": false,
    "editable": false,
    "id": "sBxlLJhDwz32",
    "nbgrader": {
     "cell_type": "markdown",
     "checksum": "786407e5e47e82008414d765982c0e27",
     "grade": false,
     "grade_id": "cell-319b42893dcbcfec",
     "locked": true,
     "schema_version": 3,
     "solution": false,
     "task": false
    }
   },
   "source": [
    "- With a list defined like this `list3 = [1, 2, [3, 4, 'hello']]` modify it by:\n",
    "    - Changing \"hello\" to \"goodbye\".\n",
    "    - Append **100** to the list.\n",
    "    - Removing **2** from the list.\n",
    "    - Reverse the entire list.\n",
    "    - Store the final result in a variable called **modiFied**"
   ]
  },
  {
   "cell_type": "code",
   "execution_count": 3,
   "metadata": {
    "colab": {
     "base_uri": "https://localhost:8080/"
    },
    "deletable": false,
    "executionInfo": {
     "elapsed": 388,
     "status": "ok",
     "timestamp": 1738657661655,
     "user": {
      "displayName": "wanjiru njenga",
      "userId": "00861820569804964062"
     },
     "user_tz": -180
    },
    "id": "tS6V8wauwz32",
    "nbgrader": {
     "cell_type": "code",
     "checksum": "d6dcf586e46a3402c3c587e717ebdc50",
     "grade": false,
     "grade_id": "cell-fac327c594288b28",
     "locked": false,
     "schema_version": 3,
     "solution": true,
     "task": false
    },
    "outputId": "fb60e96b-4ef5-4980-c5de-a59d9c9ce701"
   },
   "outputs": [
    {
     "name": "stdout",
     "output_type": "stream",
     "text": [
      "[1, 2, [3, 4, 'goodbye']]\n",
      "[1, 2, [3, 4, 'goodbye'], 100]\n",
      "[1, [3, 4, 'goodbye'], 100]\n",
      "[100, [3, 4, 'goodbye'], 1]\n"
     ]
    }
   ],
   "source": [
    "list3 = [1, 2, [3, 4, 'hello']]\n",
    "# YOUR CODE HERE\n",
    "# changing \"hello\" to \"goodbye\"\n",
    "list3[2][2] = \"goodbye\"\n",
    "print(list3)\n",
    "\n",
    "# appending 100 to the list\n",
    "list3.append(100)\n",
    "print(list3)\n",
    "\n",
    "# removing 2 from the list\n",
    "list3.remove(2)\n",
    "print(list3)\n",
    "\n",
    "# reverse the entire list and store in variable modiFied\n",
    "modiFied = list3[::-1]\n",
    "print(modiFied)"
   ]
  },
  {
   "cell_type": "code",
   "execution_count": 4,
   "metadata": {
    "deletable": false,
    "editable": false,
    "executionInfo": {
     "elapsed": 381,
     "status": "ok",
     "timestamp": 1738657690320,
     "user": {
      "displayName": "wanjiru njenga",
      "userId": "00861820569804964062"
     },
     "user_tz": -180
    },
    "id": "5NKbVL4Uwz33",
    "nbgrader": {
     "cell_type": "code",
     "checksum": "76287ed7321ddcf37c6e1436481658fa",
     "grade": true,
     "grade_id": "cell-97260ca982a851e2",
     "locked": true,
     "points": 2,
     "schema_version": 3,
     "solution": false,
     "task": false
    }
   },
   "outputs": [],
   "source": [
    "#do not modify this cell\n",
    "#do not modify this cell\n",
    "#do not modify this cell\n",
    "#do not modify this cell\n",
    "assert modiFied == [\n",
    "    10 ** 2,\n",
    "    [9/3, 16**0.5, \"good\" + \"bye\"],\n",
    "    2 - 1\n",
    "]"
   ]
  },
  {
   "cell_type": "markdown",
   "metadata": {
    "deletable": false,
    "editable": false,
    "id": "90onVne0wz33",
    "nbgrader": {
     "cell_type": "markdown",
     "checksum": "bd989e7cbd826a84c65c7f0a19f78b92",
     "grade": false,
     "grade_id": "cell-876e9f5707cdaef3",
     "locked": true,
     "schema_version": 3,
     "solution": false,
     "task": false
    }
   },
   "source": [
    "## 3. Dictionaries"
   ]
  },
  {
   "cell_type": "markdown",
   "metadata": {
    "deletable": false,
    "editable": false,
    "id": "V0-0d6kSwz33",
    "nbgrader": {
     "cell_type": "markdown",
     "checksum": "aab6670c0153aa4b6ff4e8c423fb88ce",
     "grade": false,
     "grade_id": "cell-50ad6798236dd237",
     "locked": true,
     "schema_version": 3,
     "solution": false,
     "task": false
    }
   },
   "source": [
    "Given the dictionary:\n",
    "`d = {\"k1\": [{\"nest_key\": [\"this is deep\", [\"hello\"]]}], \"age\": 30}`\n",
    "- Extract \"hello\" and store it in **dict_answer**.\n",
    "- Add a new key **name** with the value **Alice**.\n",
    "- Increase **age** by **5**."
   ]
  },
  {
   "cell_type": "code",
   "execution_count": 5,
   "metadata": {
    "colab": {
     "base_uri": "https://localhost:8080/"
    },
    "deletable": false,
    "executionInfo": {
     "elapsed": 416,
     "status": "ok",
     "timestamp": 1738659677334,
     "user": {
      "displayName": "wanjiru njenga",
      "userId": "00861820569804964062"
     },
     "user_tz": -180
    },
    "id": "18X71n8rwz34",
    "nbgrader": {
     "cell_type": "code",
     "checksum": "c3b23f2df09a4388a7b512dd2922261b",
     "grade": false,
     "grade_id": "cell-ea72189458dfbb55",
     "locked": false,
     "schema_version": 3,
     "solution": true,
     "task": false
    },
    "outputId": "0de4be92-b791-445d-ed39-8995b3546bd6"
   },
   "outputs": [
    {
     "name": "stdout",
     "output_type": "stream",
     "text": [
      "hello\n",
      "{'k1': [{'nest_key': ['this is deep', ['hello']]}], 'age': 30, 'name': 'Alice'}\n",
      "{'k1': [{'nest_key': ['this is deep', ['hello']]}], 'age': 35, 'name': 'Alice'}\n"
     ]
    }
   ],
   "source": [
    "d = {\"k1\": [{\"nest_key\": [\"this is deep\", [\"hello\"]]}], \"age\": 30}\n",
    "# YOUR CODE HERE\n",
    "# Extract \"hello\" from dict\n",
    "dict_answer = d[\"k1\"][0][\"nest_key\"][1][0]\n",
    "print(dict_answer)\n",
    "\n",
    "# Add a new key \"name\" with the value \"Alice\"\n",
    "d[\"name\"] = \"Alice\"\n",
    "print(d)\n",
    "\n",
    "# Increase age by 5\n",
    "d[\"age\"] += 5\n",
    "print(d)\n"
   ]
  },
  {
   "cell_type": "code",
   "execution_count": 6,
   "metadata": {
    "deletable": false,
    "editable": false,
    "executionInfo": {
     "elapsed": 457,
     "status": "ok",
     "timestamp": 1738659682895,
     "user": {
      "displayName": "wanjiru njenga",
      "userId": "00861820569804964062"
     },
     "user_tz": -180
    },
    "id": "a3ijgOrswz34",
    "nbgrader": {
     "cell_type": "code",
     "checksum": "fa99d5761df9c759e97fd9463c56d2eb",
     "grade": true,
     "grade_id": "cell-92c0ac6f156e2a56",
     "locked": true,
     "points": 2,
     "schema_version": 3,
     "solution": false,
     "task": false
    }
   },
   "outputs": [],
   "source": [
    "#do not modify this cell\n",
    "#do not modify this cell\n",
    "#do not modify this cell\n",
    "#do not modify this cell\n",
    "assert dict_answer == \"hello\"\n",
    "assert d[\"name\"] == \"Alice\"\n",
    "assert d[\"age\"] == 35"
   ]
  },
  {
   "cell_type": "markdown",
   "metadata": {
    "deletable": false,
    "editable": false,
    "id": "Yokw42Ftwz34",
    "nbgrader": {
     "cell_type": "markdown",
     "checksum": "3467ec086e9ec3015a46312301a05486",
     "grade": false,
     "grade_id": "cell-68d5f7d60a663e40",
     "locked": true,
     "schema_version": 3,
     "solution": false,
     "task": false
    }
   },
   "source": [
    "## 4. Tuples"
   ]
  },
  {
   "cell_type": "markdown",
   "metadata": {
    "deletable": false,
    "editable": false,
    "id": "GEIrhfJ2wz35",
    "nbgrader": {
     "cell_type": "markdown",
     "checksum": "e12a69501c1d6c3bce193343d30f40c8",
     "grade": false,
     "grade_id": "cell-6460688b27b7e495",
     "locked": true,
     "schema_version": 3,
     "solution": false,
     "task": false
    }
   },
   "source": [
    "- Create a tuple **my_tuple** with values (5, 15, 3).\n",
    "- Unpack it into three variables: a, b, c.\n",
    "- Concatenate my_tuple with (4, 5, 6) and store it in new_tuple."
   ]
  },
  {
   "cell_type": "code",
   "execution_count": 7,
   "metadata": {
    "colab": {
     "base_uri": "https://localhost:8080/"
    },
    "deletable": false,
    "executionInfo": {
     "elapsed": 380,
     "status": "ok",
     "timestamp": 1738661107122,
     "user": {
      "displayName": "wanjiru njenga",
      "userId": "00861820569804964062"
     },
     "user_tz": -180
    },
    "id": "7PO3H_Ubwz35",
    "nbgrader": {
     "cell_type": "code",
     "checksum": "c2409ac0f75c68522b674dfa2503cf18",
     "grade": false,
     "grade_id": "cell-e778568dc2022c81",
     "locked": false,
     "schema_version": 3,
     "solution": true,
     "task": false
    },
    "outputId": "950129ac-d259-4b62-f3f1-408997e47a41"
   },
   "outputs": [
    {
     "name": "stdout",
     "output_type": "stream",
     "text": [
      "(5, 15, 3)\n",
      "5 15 3\n",
      "(5, 15, 3, 4, 5, 6)\n"
     ]
    }
   ],
   "source": [
    "# YOUR CODE HERE\n",
    "# create a tuple\n",
    "my_tuple = (5, 15, 3)\n",
    "print(my_tuple)\n",
    "\n",
    "# Unpack it into three variables: a, b, c.\n",
    "a, b, c = my_tuple\n",
    "print(a, b, c)\n",
    "\n",
    "# Concatenate my_tuple with (4, 5, 6)\n",
    "new_tuple = my_tuple + (4, 5, 6)\n",
    "print(new_tuple)"
   ]
  },
  {
   "cell_type": "code",
   "execution_count": 8,
   "metadata": {
    "deletable": false,
    "editable": false,
    "executionInfo": {
     "elapsed": 460,
     "status": "ok",
     "timestamp": 1738661134173,
     "user": {
      "displayName": "wanjiru njenga",
      "userId": "00861820569804964062"
     },
     "user_tz": -180
    },
    "id": "FELS8i9hwz35",
    "nbgrader": {
     "cell_type": "code",
     "checksum": "9834ab249e718ed3a64cf6235307dc9b",
     "grade": true,
     "grade_id": "cell-c84a7e6cfef7d56b",
     "locked": true,
     "points": 2,
     "schema_version": 3,
     "solution": false,
     "task": false
    }
   },
   "outputs": [],
   "source": [
    "#do not modify this cell\n",
    "#do not modify this cell\n",
    "#do not modify this cell\n",
    "#do not modify this cell\n",
    "assert a == 15/3 and b == 7+8 and c == 9**0.5"
   ]
  },
  {
   "cell_type": "markdown",
   "metadata": {
    "deletable": false,
    "editable": false,
    "id": "a92I287bwz35",
    "nbgrader": {
     "cell_type": "markdown",
     "checksum": "9687fa4493dc705198c0debd5223ea8d",
     "grade": false,
     "grade_id": "cell-ff76ed2f1941d44b",
     "locked": true,
     "schema_version": 3,
     "solution": false,
     "task": false
    }
   },
   "source": [
    "## 5. Sets"
   ]
  },
  {
   "cell_type": "markdown",
   "metadata": {
    "deletable": false,
    "editable": false,
    "id": "LUj7MerBwz35",
    "nbgrader": {
     "cell_type": "markdown",
     "checksum": "1e747385d1a064f17ca48f6add25a5e3",
     "grade": false,
     "grade_id": "cell-8b9e26ba4ccc8b1e",
     "locked": true,
     "schema_version": 3,
     "solution": false,
     "task": false
    }
   },
   "source": [
    "Use a set to find the unique values of the list below and assign it to a variable **unique_values**:"
   ]
  },
  {
   "cell_type": "code",
   "execution_count": 9,
   "metadata": {
    "colab": {
     "base_uri": "https://localhost:8080/"
    },
    "deletable": false,
    "executionInfo": {
     "elapsed": 396,
     "status": "ok",
     "timestamp": 1738661476500,
     "user": {
      "displayName": "wanjiru njenga",
      "userId": "00861820569804964062"
     },
     "user_tz": -180
    },
    "id": "IkU8oWO-wz36",
    "nbgrader": {
     "cell_type": "code",
     "checksum": "ffc02c4eb41be66adc12e267b9ba0183",
     "grade": false,
     "grade_id": "cell-9f915e6b6eb8cd39",
     "locked": false,
     "schema_version": 3,
     "solution": true,
     "task": false
    },
    "outputId": "18384471-6b34-45a0-d0ea-56da7784eafb"
   },
   "outputs": [
    {
     "name": "stdout",
     "output_type": "stream",
     "text": [
      "{1, 2, 33, 4, 3, 11, 22}\n"
     ]
    }
   ],
   "source": [
    "list5 = [1,2,2,33,4,4,11,22,3,3,2]\n",
    "# YOUR CODE HERE\n",
    "# finding unique values from list5\n",
    "unique_values = set(list5)\n",
    "print(unique_values)"
   ]
  },
  {
   "cell_type": "code",
   "execution_count": 10,
   "metadata": {
    "deletable": false,
    "editable": false,
    "executionInfo": {
     "elapsed": 380,
     "status": "ok",
     "timestamp": 1738661402525,
     "user": {
      "displayName": "wanjiru njenga",
      "userId": "00861820569804964062"
     },
     "user_tz": -180
    },
    "id": "0lXT0huCwz36",
    "nbgrader": {
     "cell_type": "code",
     "checksum": "ff54787766e82986b4d7898679b37b7f",
     "grade": true,
     "grade_id": "cell-9c9f34983f081b5a",
     "locked": true,
     "points": 2,
     "schema_version": 3,
     "solution": false,
     "task": false
    }
   },
   "outputs": [],
   "source": [
    "#do not modify this cell\n",
    "#do not modify this cell\n",
    "#do not modify this cell\n",
    "#do not modify this cell\n",
    "assert unique_values ==  {1, 2, 3, 4, 11, 22, 33}"
   ]
  },
  {
   "cell_type": "markdown",
   "metadata": {
    "deletable": false,
    "editable": false,
    "id": "DhpLFZVjwz36",
    "nbgrader": {
     "cell_type": "markdown",
     "checksum": "d9ef453fb5acadfd7e6ce9c15cdf74ae",
     "grade": false,
     "grade_id": "cell-468482c852a782d8",
     "locked": true,
     "schema_version": 3,
     "solution": false,
     "task": false
    }
   },
   "source": [
    "## Great Job on your first assessment!"
   ]
  }
 ],
 "metadata": {
  "anaconda-cloud": {},
  "colab": {
   "provenance": [
    {
     "file_id": "1SA9e2WUyKoxTC4CxQE6jkEklv0V3Ezsv",
     "timestamp": 1738652488393
    }
   ]
  },
  "kernelspec": {
   "display_name": "Python 3",
   "language": "python",
   "name": "python3"
  },
  "language_info": {
   "codemirror_mode": {
    "name": "ipython",
    "version": 3
   },
   "file_extension": ".py",
   "mimetype": "text/x-python",
   "name": "python",
   "nbconvert_exporter": "python",
   "pygments_lexer": "ipython3",
   "version": "3.8.5"
  }
 },
 "nbformat": 4,
 "nbformat_minor": 1
}
